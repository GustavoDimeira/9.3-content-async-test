{
  "nbformat": 4,
  "nbformat_minor": 0,
  "metadata": {
    "colab": {
      "name": "Face recognition with OpenCV, Python, and deep learning.ipynb",
      "provenance": [],
      "include_colab_link": true
    },
    "kernelspec": {
      "name": "python3",
      "display_name": "Python 3"
    },
    "accelerator": "GPU"
  },
  "cells": [
    {
      "cell_type": "markdown",
      "metadata": {
        "id": "view-in-github",
        "colab_type": "text"
      },
      "source": [
        "<a href=\"https://colab.research.google.com/github/GustavoDimeira/9.3-content-async-test/blob/main/Face_recognition.ipynb\" target=\"_parent\"><img src=\"https://colab.research.google.com/assets/colab-badge.svg\" alt=\"Open In Colab\"/></a>"
      ]
    },
    {
      "cell_type": "code",
      "metadata": {
        "id": "-4-y-1D-GiZP",
        "colab": {
          "base_uri": "https://localhost:8080/"
        },
        "outputId": "7d6d8795-0e1d-439f-a5ee-e1ee893be6fa"
      },
      "source": [
        "from google.colab import drive\n",
        "drive.mount('/content/gdrive')"
      ],
      "execution_count": 15,
      "outputs": [
        {
          "output_type": "stream",
          "name": "stdout",
          "text": [
            "Drive already mounted at /content/gdrive; to attempt to forcibly remount, call drive.mount(\"/content/gdrive\", force_remount=True).\n"
          ]
        }
      ]
    },
    {
      "cell_type": "code",
      "metadata": {
        "id": "FTzbHX4HHqpx"
      },
      "source": [
        "!ls /content/gdrive/'My Drive'/face-recognition-opencv"
      ],
      "execution_count": 19,
      "outputs": []
    },
    {
      "cell_type": "code",
      "metadata": {
        "id": "zYJUFbvKEK3c",
        "colab": {
          "base_uri": "https://localhost:8080/"
        },
        "outputId": "c68b1757-4f0a-4c8c-b083-93960cbcbd42"
      },
      "source": [
        "!pip install dlib"
      ],
      "execution_count": 24,
      "outputs": [
        {
          "output_type": "stream",
          "name": "stdout",
          "text": [
            "Requirement already satisfied: dlib in /usr/local/lib/python3.10/dist-packages (19.24.2)\n"
          ]
        }
      ]
    },
    {
      "cell_type": "code",
      "metadata": {
        "id": "CqMXYGvUGifd",
        "colab": {
          "base_uri": "https://localhost:8080/"
        },
        "outputId": "b5c92853-9932-4227-f569-7fc53ce2fa92"
      },
      "source": [
        " pip install face_recognition"
      ],
      "execution_count": 25,
      "outputs": [
        {
          "output_type": "stream",
          "name": "stdout",
          "text": [
            "Collecting face_recognition\n",
            "  Downloading face_recognition-1.3.0-py2.py3-none-any.whl.metadata (21 kB)\n",
            "Collecting face-recognition-models>=0.3.0 (from face_recognition)\n",
            "  Downloading face_recognition_models-0.3.0.tar.gz (100.1 MB)\n",
            "\u001b[2K     \u001b[90m━━━━━━━━━━━━━━━━━━━━━━━━━━━━━━━━━━━━━━━━\u001b[0m \u001b[32m100.1/100.1 MB\u001b[0m \u001b[31m6.6 MB/s\u001b[0m eta \u001b[36m0:00:00\u001b[0m\n",
            "\u001b[?25h  Preparing metadata (setup.py) ... \u001b[?25l\u001b[?25hdone\n",
            "Requirement already satisfied: Click>=6.0 in /usr/local/lib/python3.10/dist-packages (from face_recognition) (8.1.7)\n",
            "Requirement already satisfied: dlib>=19.7 in /usr/local/lib/python3.10/dist-packages (from face_recognition) (19.24.2)\n",
            "Requirement already satisfied: numpy in /usr/local/lib/python3.10/dist-packages (from face_recognition) (1.26.4)\n",
            "Requirement already satisfied: Pillow in /usr/local/lib/python3.10/dist-packages (from face_recognition) (11.0.0)\n",
            "Downloading face_recognition-1.3.0-py2.py3-none-any.whl (15 kB)\n",
            "Building wheels for collected packages: face-recognition-models\n",
            "  Building wheel for face-recognition-models (setup.py) ... \u001b[?25l\u001b[?25hdone\n",
            "  Created wheel for face-recognition-models: filename=face_recognition_models-0.3.0-py2.py3-none-any.whl size=100566162 sha256=3cbd228a5200f26374cfc6fe0cfa6b987a43487708e8296c3d4a1e2d1a23e804\n",
            "  Stored in directory: /root/.cache/pip/wheels/7a/eb/cf/e9eced74122b679557f597bb7c8e4c739cfcac526db1fd523d\n",
            "Successfully built face-recognition-models\n",
            "Installing collected packages: face-recognition-models, face_recognition\n",
            "Successfully installed face-recognition-models-0.3.0 face_recognition-1.3.0\n"
          ]
        }
      ]
    },
    {
      "cell_type": "code",
      "source": [
        "# prompt: usando o face_recognition, faz um codigo que passa por todos os rostos em /content/gdrive/'My Drive'/face-recognition-opencv/knowed-faces e diz se uma imagem passada como parametro percente a algum\n",
        "\n",
        "import face_recognition\n",
        "import os\n",
        "from google.colab import drive\n",
        "\n",
        "def recognize_face(image_path):\n",
        "  known_faces_dir = \"/content/gdrive/My Drive/face-recognition-opencv/knowed-faces\"\n",
        "  known_face_encodings = []\n",
        "  known_face_names = []\n",
        "\n",
        "  for filename in os.listdir(known_faces_dir):\n",
        "    if filename.endswith(('.jpg', '.jpeg', '.png')):\n",
        "        image = face_recognition.load_image_file(os.path.join(known_faces_dir, filename))\n",
        "        try:\n",
        "            encoding = face_recognition.face_encodings(image)[0] # Pega o primeiro rosto detectado\n",
        "            known_face_encodings.append(encoding)\n",
        "            known_face_names.append(filename[:-4]) # Remove a extensão do nome do arquivo\n",
        "        except IndexError:\n",
        "            print(f\"Warning: No faces found in {filename}, skipping this image.\")\n",
        "\n",
        "  unknown_image = face_recognition.load_image_file(image_path)\n",
        "  unknown_face_encodings = face_recognition.face_encodings(unknown_image)\n",
        "\n",
        "  if not unknown_face_encodings:\n",
        "      print(\"No faces found in the provided image.\")\n",
        "      return \"No faces found\"\n",
        "\n",
        "  for unknown_encoding in unknown_face_encodings:\n",
        "    matches = face_recognition.compare_faces(known_face_encodings, unknown_encoding, tolerance=0.6)\n",
        "    name = \"Unknown\"\n",
        "\n",
        "    face_distances = face_recognition.face_distance(known_face_encodings, unknown_encoding)\n",
        "    best_match_index = 0\n",
        "    if len(face_distances)>0:\n",
        "        best_match_index = face_distances.argmin()\n",
        "\n",
        "    if matches[best_match_index]:\n",
        "        name = known_face_names[best_match_index]\n",
        "    return name # Retorna o nome da primeira face reconhecida\n",
        "\n",
        "# Exemplo de uso\n",
        "image_to_check = \"/content/gdrive/My Drive/face-recognition-opencv/xandao_desconhecido.jpeg\"\n",
        "result = recognize_face(image_to_check)\n",
        "print(f\"The image belongs to: {result}\")"
      ],
      "metadata": {
        "id": "96oQ47xCg34R",
        "outputId": "92c076f2-0f11-4f51-cc65-7ad5316ae3dc",
        "colab": {
          "base_uri": "https://localhost:8080/",
          "height": 315
        }
      },
      "execution_count": 26,
      "outputs": [
        {
          "output_type": "error",
          "ename": "FileNotFoundError",
          "evalue": "[Errno 2] No such file or directory: '/content/gdrive/My Drive/face-recognition-opencv/knowed-faces'",
          "traceback": [
            "\u001b[0;31m---------------------------------------------------------------------------\u001b[0m",
            "\u001b[0;31mFileNotFoundError\u001b[0m                         Traceback (most recent call last)",
            "\u001b[0;32m<ipython-input-26-2d7633880c27>\u001b[0m in \u001b[0;36m<cell line: 44>\u001b[0;34m()\u001b[0m\n\u001b[1;32m     42\u001b[0m \u001b[0;31m# Exemplo de uso\u001b[0m\u001b[0;34m\u001b[0m\u001b[0;34m\u001b[0m\u001b[0m\n\u001b[1;32m     43\u001b[0m \u001b[0mimage_to_check\u001b[0m \u001b[0;34m=\u001b[0m \u001b[0;34m\"/content/gdrive/My Drive/face-recognition-opencv/teste.jpg\"\u001b[0m\u001b[0;34m\u001b[0m\u001b[0;34m\u001b[0m\u001b[0m\n\u001b[0;32m---> 44\u001b[0;31m \u001b[0mresult\u001b[0m \u001b[0;34m=\u001b[0m \u001b[0mrecognize_face\u001b[0m\u001b[0;34m(\u001b[0m\u001b[0mimage_to_check\u001b[0m\u001b[0;34m)\u001b[0m\u001b[0;34m\u001b[0m\u001b[0;34m\u001b[0m\u001b[0m\n\u001b[0m\u001b[1;32m     45\u001b[0m \u001b[0mprint\u001b[0m\u001b[0;34m(\u001b[0m\u001b[0;34mf\"The image belongs to: {result}\"\u001b[0m\u001b[0;34m)\u001b[0m\u001b[0;34m\u001b[0m\u001b[0;34m\u001b[0m\u001b[0m\n",
            "\u001b[0;32m<ipython-input-26-2d7633880c27>\u001b[0m in \u001b[0;36mrecognize_face\u001b[0;34m(image_path)\u001b[0m\n\u001b[1;32m     10\u001b[0m   \u001b[0mknown_face_names\u001b[0m \u001b[0;34m=\u001b[0m \u001b[0;34m[\u001b[0m\u001b[0;34m]\u001b[0m\u001b[0;34m\u001b[0m\u001b[0;34m\u001b[0m\u001b[0m\n\u001b[1;32m     11\u001b[0m \u001b[0;34m\u001b[0m\u001b[0m\n\u001b[0;32m---> 12\u001b[0;31m   \u001b[0;32mfor\u001b[0m \u001b[0mfilename\u001b[0m \u001b[0;32min\u001b[0m \u001b[0mos\u001b[0m\u001b[0;34m.\u001b[0m\u001b[0mlistdir\u001b[0m\u001b[0;34m(\u001b[0m\u001b[0mknown_faces_dir\u001b[0m\u001b[0;34m)\u001b[0m\u001b[0;34m:\u001b[0m\u001b[0;34m\u001b[0m\u001b[0;34m\u001b[0m\u001b[0m\n\u001b[0m\u001b[1;32m     13\u001b[0m     \u001b[0;32mif\u001b[0m \u001b[0mfilename\u001b[0m\u001b[0;34m.\u001b[0m\u001b[0mendswith\u001b[0m\u001b[0;34m(\u001b[0m\u001b[0;34m(\u001b[0m\u001b[0;34m'.jpg'\u001b[0m\u001b[0;34m,\u001b[0m \u001b[0;34m'.jpeg'\u001b[0m\u001b[0;34m,\u001b[0m \u001b[0;34m'.png'\u001b[0m\u001b[0;34m)\u001b[0m\u001b[0;34m)\u001b[0m\u001b[0;34m:\u001b[0m\u001b[0;34m\u001b[0m\u001b[0;34m\u001b[0m\u001b[0m\n\u001b[1;32m     14\u001b[0m         \u001b[0mimage\u001b[0m \u001b[0;34m=\u001b[0m \u001b[0mface_recognition\u001b[0m\u001b[0;34m.\u001b[0m\u001b[0mload_image_file\u001b[0m\u001b[0;34m(\u001b[0m\u001b[0mos\u001b[0m\u001b[0;34m.\u001b[0m\u001b[0mpath\u001b[0m\u001b[0;34m.\u001b[0m\u001b[0mjoin\u001b[0m\u001b[0;34m(\u001b[0m\u001b[0mknown_faces_dir\u001b[0m\u001b[0;34m,\u001b[0m \u001b[0mfilename\u001b[0m\u001b[0;34m)\u001b[0m\u001b[0;34m)\u001b[0m\u001b[0;34m\u001b[0m\u001b[0;34m\u001b[0m\u001b[0m\n",
            "\u001b[0;31mFileNotFoundError\u001b[0m: [Errno 2] No such file or directory: '/content/gdrive/My Drive/face-recognition-opencv/knowed-faces'"
          ]
        }
      ]
    },
    {
      "cell_type": "code",
      "metadata": {
        "id": "Zyr0AN1EIQpa"
      },
      "source": [
        "# import the necessary packages\n",
        "from imutils import paths\n",
        "import face_recognition\n",
        "import argparse\n",
        "import pickle\n",
        "import cv2\n",
        "import os"
      ],
      "execution_count": null,
      "outputs": []
    },
    {
      "cell_type": "code",
      "metadata": {
        "id": "U6pj4gyiLAMd"
      },
      "source": [
        "!cp gdrive/My\\ Drive/face-recognition-opencv/encode_faces.py .\n",
        "!cp gdrive/My\\ Drive/face-recognition-opencv/encodings.pickle .\n",
        "!cp -r gdrive/My\\ Drive/face-recognition-opencv/dataset ."
      ],
      "execution_count": null,
      "outputs": []
    },
    {
      "cell_type": "code",
      "metadata": {
        "id": "EN6JtKsmIQmH",
        "colab": {
          "base_uri": "https://localhost:8080/",
          "height": 1000
        },
        "outputId": "06beaadf-92db-4558-d371-791131251f6c"
      },
      "source": [
        "#%cd gdrive/My\\ Drive/face-recognition-opencv\n",
        "!python encode_faces.py --dataset dataset --encodings encodings.pickle"
      ],
      "execution_count": null,
      "outputs": [
        {
          "output_type": "stream",
          "text": [
            "[INFO] quantifying faces...\n",
            "[INFO] processing image 1/212\n",
            "[INFO] processing image 2/212\n",
            "[INFO] processing image 3/212\n",
            "[INFO] processing image 4/212\n",
            "[INFO] processing image 5/212\n",
            "[INFO] processing image 6/212\n",
            "[INFO] processing image 7/212\n",
            "[INFO] processing image 8/212\n",
            "[INFO] processing image 9/212\n",
            "[INFO] processing image 10/212\n",
            "[INFO] processing image 11/212\n",
            "[INFO] processing image 12/212\n",
            "[INFO] processing image 13/212\n",
            "[INFO] processing image 14/212\n",
            "[INFO] processing image 15/212\n",
            "[INFO] processing image 16/212\n",
            "[INFO] processing image 17/212\n",
            "[INFO] processing image 18/212\n",
            "[INFO] processing image 19/212\n",
            "[INFO] processing image 20/212\n",
            "[INFO] processing image 21/212\n",
            "[INFO] processing image 22/212\n",
            "[INFO] processing image 23/212\n",
            "[INFO] processing image 24/212\n",
            "[INFO] processing image 25/212\n",
            "[INFO] processing image 26/212\n",
            "[INFO] processing image 27/212\n",
            "[INFO] processing image 28/212\n",
            "[INFO] processing image 29/212\n",
            "[INFO] processing image 30/212\n",
            "[INFO] processing image 31/212\n",
            "[INFO] processing image 32/212\n",
            "[INFO] processing image 33/212\n",
            "[INFO] processing image 34/212\n",
            "[INFO] processing image 35/212\n",
            "[INFO] processing image 36/212\n",
            "[INFO] processing image 37/212\n",
            "[INFO] processing image 38/212\n",
            "[INFO] processing image 39/212\n",
            "[INFO] processing image 40/212\n",
            "[INFO] processing image 41/212\n",
            "[INFO] processing image 42/212\n",
            "[INFO] processing image 43/212\n",
            "[INFO] processing image 44/212\n",
            "[INFO] processing image 45/212\n",
            "[INFO] processing image 46/212\n",
            "[INFO] processing image 47/212\n",
            "[INFO] processing image 48/212\n",
            "[INFO] processing image 49/212\n",
            "[INFO] processing image 50/212\n",
            "[INFO] processing image 51/212\n",
            "[INFO] processing image 52/212\n",
            "[INFO] processing image 53/212\n",
            "[INFO] processing image 54/212\n",
            "[INFO] processing image 55/212\n",
            "[INFO] processing image 56/212\n",
            "[INFO] processing image 57/212\n",
            "[INFO] processing image 58/212\n",
            "[INFO] processing image 59/212\n",
            "[INFO] processing image 60/212\n",
            "[INFO] processing image 61/212\n",
            "[INFO] processing image 62/212\n",
            "[INFO] processing image 63/212\n",
            "[INFO] processing image 64/212\n",
            "[INFO] processing image 65/212\n",
            "[INFO] processing image 66/212\n",
            "[INFO] processing image 67/212\n",
            "[INFO] processing image 68/212\n",
            "[INFO] processing image 69/212\n",
            "[INFO] processing image 70/212\n",
            "[INFO] processing image 71/212\n",
            "[INFO] processing image 72/212\n",
            "[INFO] processing image 73/212\n",
            "[INFO] processing image 74/212\n",
            "[INFO] processing image 75/212\n",
            "[INFO] processing image 76/212\n",
            "libpng warning: iCCP: known incorrect sRGB profile\n",
            "[INFO] processing image 77/212\n",
            "[INFO] processing image 78/212\n",
            "[INFO] processing image 79/212\n",
            "[INFO] processing image 80/212\n",
            "[INFO] processing image 81/212\n",
            "[INFO] processing image 82/212\n",
            "[INFO] processing image 83/212\n",
            "[INFO] processing image 84/212\n",
            "[INFO] processing image 85/212\n",
            "[INFO] processing image 86/212\n",
            "[INFO] processing image 87/212\n",
            "[INFO] processing image 88/212\n",
            "[INFO] processing image 89/212\n",
            "libpng warning: iCCP: known incorrect sRGB profile\n",
            "[INFO] processing image 90/212\n",
            "[INFO] processing image 91/212\n",
            "[INFO] processing image 92/212\n",
            "[INFO] processing image 93/212\n",
            "[INFO] processing image 94/212\n",
            "[INFO] processing image 95/212\n",
            "[INFO] processing image 96/212\n",
            "[INFO] processing image 97/212\n",
            "[INFO] processing image 98/212\n",
            "[INFO] processing image 99/212\n",
            "[INFO] processing image 100/212\n",
            "[INFO] processing image 101/212\n",
            "[INFO] processing image 102/212\n",
            "[INFO] processing image 103/212\n",
            "[INFO] processing image 104/212\n",
            "[INFO] processing image 105/212\n",
            "[INFO] processing image 106/212\n",
            "[INFO] processing image 107/212\n",
            "[INFO] processing image 108/212\n",
            "[INFO] processing image 109/212\n",
            "[INFO] processing image 110/212\n",
            "[INFO] processing image 111/212\n",
            "[INFO] processing image 112/212\n",
            "[INFO] processing image 113/212\n",
            "[INFO] processing image 114/212\n",
            "[INFO] processing image 115/212\n",
            "[INFO] processing image 116/212\n",
            "[INFO] processing image 117/212\n",
            "[INFO] processing image 118/212\n",
            "[INFO] processing image 119/212\n",
            "[INFO] processing image 120/212\n",
            "[INFO] processing image 121/212\n",
            "[INFO] processing image 122/212\n",
            "[INFO] processing image 123/212\n",
            "[INFO] processing image 124/212\n",
            "[INFO] processing image 125/212\n",
            "[INFO] processing image 126/212\n",
            "[INFO] processing image 127/212\n",
            "[INFO] processing image 128/212\n",
            "[INFO] processing image 129/212\n",
            "[INFO] processing image 130/212\n",
            "[INFO] processing image 131/212\n",
            "[INFO] processing image 132/212\n",
            "[INFO] processing image 133/212\n",
            "[INFO] processing image 134/212\n",
            "[INFO] processing image 135/212\n",
            "[INFO] processing image 136/212\n",
            "[INFO] processing image 137/212\n",
            "[INFO] processing image 138/212\n",
            "[INFO] processing image 139/212\n",
            "[INFO] processing image 140/212\n",
            "[INFO] processing image 141/212\n",
            "[INFO] processing image 142/212\n",
            "[INFO] processing image 143/212\n",
            "[INFO] processing image 144/212\n",
            "[INFO] processing image 145/212\n",
            "[INFO] processing image 146/212\n",
            "[INFO] processing image 147/212\n",
            "[INFO] processing image 148/212\n",
            "[INFO] processing image 149/212\n",
            "[INFO] processing image 150/212\n",
            "[INFO] processing image 151/212\n",
            "[INFO] processing image 152/212\n",
            "[INFO] processing image 153/212\n",
            "[INFO] processing image 154/212\n",
            "[INFO] processing image 155/212\n",
            "[INFO] processing image 156/212\n",
            "[INFO] processing image 157/212\n",
            "[INFO] processing image 158/212\n",
            "[INFO] processing image 159/212\n",
            "[INFO] processing image 160/212\n",
            "[INFO] processing image 161/212\n",
            "[INFO] processing image 162/212\n",
            "[INFO] processing image 163/212\n",
            "[INFO] processing image 164/212\n",
            "[INFO] processing image 165/212\n",
            "[INFO] processing image 166/212\n",
            "[INFO] processing image 167/212\n",
            "[INFO] processing image 168/212\n",
            "[INFO] processing image 169/212\n",
            "[INFO] processing image 170/212\n",
            "[INFO] processing image 171/212\n",
            "[INFO] processing image 172/212\n",
            "[INFO] processing image 173/212\n",
            "[INFO] processing image 174/212\n",
            "[INFO] processing image 175/212\n",
            "[INFO] processing image 176/212\n",
            "[INFO] processing image 177/212\n",
            "[INFO] processing image 178/212\n",
            "[INFO] processing image 179/212\n",
            "[INFO] processing image 180/212\n",
            "[INFO] processing image 181/212\n",
            "[INFO] processing image 182/212\n",
            "[INFO] processing image 183/212\n",
            "[INFO] processing image 184/212\n",
            "[INFO] processing image 185/212\n",
            "[INFO] processing image 186/212\n",
            "[INFO] processing image 187/212\n",
            "[INFO] processing image 188/212\n",
            "[INFO] processing image 189/212\n",
            "[INFO] processing image 190/212\n",
            "[INFO] processing image 191/212\n",
            "[INFO] processing image 192/212\n",
            "[INFO] processing image 193/212\n",
            "[INFO] processing image 194/212\n",
            "[INFO] processing image 195/212\n",
            "[INFO] processing image 196/212\n",
            "[INFO] processing image 197/212\n",
            "[INFO] processing image 198/212\n",
            "[INFO] processing image 199/212\n",
            "[INFO] processing image 200/212\n",
            "[INFO] processing image 201/212\n",
            "[INFO] processing image 202/212\n",
            "[INFO] processing image 203/212\n",
            "[INFO] processing image 204/212\n",
            "[INFO] processing image 205/212\n",
            "[INFO] processing image 206/212\n",
            "[INFO] processing image 207/212\n",
            "[INFO] processing image 208/212\n",
            "[INFO] processing image 209/212\n",
            "[INFO] processing image 210/212\n",
            "[INFO] processing image 211/212\n",
            "[INFO] processing image 212/212\n",
            "[INFO] serializing encodings...\n"
          ],
          "name": "stdout"
        }
      ]
    },
    {
      "cell_type": "code",
      "metadata": {
        "id": "fkCUAD3rJ92m"
      },
      "source": [],
      "execution_count": null,
      "outputs": []
    },
    {
      "cell_type": "code",
      "metadata": {
        "id": "Wmv58JUsJ95q"
      },
      "source": [],
      "execution_count": null,
      "outputs": []
    }
  ]
}